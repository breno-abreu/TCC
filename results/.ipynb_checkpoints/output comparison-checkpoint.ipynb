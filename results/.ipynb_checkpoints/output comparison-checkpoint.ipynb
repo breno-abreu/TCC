{
 "cells": [
  {
   "cell_type": "code",
   "execution_count": 8,
   "id": "c68bf6c2",
   "metadata": {},
   "outputs": [],
   "source": [
    "import pandas as pd\n",
    "import numpy as np\n",
    "import warnings\n",
    "\n",
    "warnings.filterwarnings(\"ignore\")\n",
    "pd.set_option('display.max_columns', None)"
   ]
  },
  {
   "cell_type": "code",
   "execution_count": 9,
   "id": "14798cfe",
   "metadata": {},
   "outputs": [
    {
     "data": {
      "text/plain": [
       "0      1942852\n",
       "1      1942893\n",
       "2      1625205\n",
       "3      2065437\n",
       "4      2055257\n",
       "        ...   \n",
       "202    1054912\n",
       "203    1077051\n",
       "204    1087231\n",
       "205     540577\n",
       "206     809228\n",
       "Name: idx, Length: 207, dtype: int64"
      ]
     },
     "execution_count": 9,
     "metadata": {},
     "output_type": "execute_result"
    }
   ],
   "source": [
    "iforest = pd.read_csv(r'..\\isolation forest\\output\\outliers.csv', encoding='latin-1')\n",
    "iforest = iforest['idx']\n",
    "\n",
    "som = pd.read_csv(r'..\\som\\output\\outliers.csv', encoding='latin-1')\n",
    "som = som['idx']\n",
    "\n",
    "lof = pd.read_csv(r'..\\lof\\output\\outliers.csv', encoding='latin-1')\n",
    "lof = lof['idx']\n",
    "lof"
   ]
  },
  {
   "cell_type": "code",
   "execution_count": 10,
   "id": "6b9c9c7c",
   "metadata": {},
   "outputs": [],
   "source": [
    "def percentage_of_common_values(arr1, arr2):\n",
    "    # Convert arrays to sets for efficient intersection calculation\n",
    "    set1 = set(arr1)\n",
    "    set2 = set(arr2)\n",
    "    \n",
    "    # Calculate the size of the intersection\n",
    "    intersection_size = len(set1.intersection(set2))\n",
    "    \n",
    "    # Calculate the percentage\n",
    "    percentage = (intersection_size / len(set1)) * 100\n",
    "    \n",
    "    return percentage"
   ]
  },
  {
   "cell_type": "code",
   "execution_count": 11,
   "id": "8e74fef4",
   "metadata": {},
   "outputs": [],
   "source": [
    "c1 = percentage_of_common_values(som, iforest)\n",
    "c2 = percentage_of_common_values(som, lof)\n",
    "c3 = percentage_of_common_values(lof, iforest)"
   ]
  },
  {
   "cell_type": "code",
   "execution_count": 12,
   "id": "a10e5911",
   "metadata": {},
   "outputs": [
    {
     "data": {
      "text/plain": [
       "21.256038647342994"
      ]
     },
     "execution_count": 12,
     "metadata": {},
     "output_type": "execute_result"
    }
   ],
   "source": [
    "c1"
   ]
  },
  {
   "cell_type": "code",
   "execution_count": 13,
   "id": "53ee3842",
   "metadata": {},
   "outputs": [
    {
     "data": {
      "text/plain": [
       "0.0"
      ]
     },
     "execution_count": 13,
     "metadata": {},
     "output_type": "execute_result"
    }
   ],
   "source": [
    "c2"
   ]
  },
  {
   "cell_type": "code",
   "execution_count": 14,
   "id": "00dfdd90",
   "metadata": {},
   "outputs": [
    {
     "data": {
      "text/plain": [
       "0.0"
      ]
     },
     "execution_count": 14,
     "metadata": {},
     "output_type": "execute_result"
    }
   ],
   "source": [
    "c3"
   ]
  },
  {
   "cell_type": "code",
   "execution_count": 15,
   "id": "43f573dd",
   "metadata": {},
   "outputs": [
    {
     "data": {
      "text/plain": [
       "[2055047,\n",
       " 2055049,\n",
       " 1631882,\n",
       " 1988875,\n",
       " 2001164,\n",
       " 2055055,\n",
       " 1631760,\n",
       " 2055057,\n",
       " 1632275,\n",
       " 1634197,\n",
       " 1632407,\n",
       " 1947004,\n",
       " 2055069,\n",
       " 1633054,\n",
       " 2055071,\n",
       " 1089316,\n",
       " 2055077,\n",
       " 1629222,\n",
       " 1632039,\n",
       " 2055079,\n",
       " 1634602,\n",
       " 1634603,\n",
       " 2055085,\n",
       " 1632761,\n",
       " 2055093,\n",
       " 1628482,\n",
       " 1626310,\n",
       " 1626311,\n",
       " 2055368,\n",
       " 2001226,\n",
       " 1631567,\n",
       " 1631699,\n",
       " 2051292,\n",
       " 2060002,\n",
       " 2055270,\n",
       " 1627751,\n",
       " 1632876,\n",
       " 1632620,\n",
       " 1633390,\n",
       " 1633391,\n",
       " 2055033,\n",
       " 2059259,\n",
       " 1634300,\n",
       " 2055038]"
      ]
     },
     "execution_count": 15,
     "metadata": {},
     "output_type": "execute_result"
    }
   ],
   "source": [
    "intersection_set = set(som).intersection(iforest)\n",
    "intersection_list = list(intersection_set)\n",
    "som_iforest = pd.DataFrame(intersection_list, columns=['idx'])\n",
    "som_iforest.to_csv('output\\som_iforest_intersec.csv', index=False)\n",
    "som_iforest"
   ]
  }
 ],
 "metadata": {
  "kernelspec": {
   "display_name": "Python 3 (ipykernel)",
   "language": "python",
   "name": "python3"
  },
  "language_info": {
   "codemirror_mode": {
    "name": "ipython",
    "version": 3
   },
   "file_extension": ".py",
   "mimetype": "text/x-python",
   "name": "python",
   "nbconvert_exporter": "python",
   "pygments_lexer": "ipython3",
   "version": "3.9.17"
  }
 },
 "nbformat": 4,
 "nbformat_minor": 5
}

{
 "cells": [
  {
   "cell_type": "code",
   "execution_count": 1,
   "id": "c580eee2",
   "metadata": {},
   "outputs": [],
   "source": [
    "import pandas as pd\n",
    "import numpy as np\n",
    "import warnings\n",
    "\n",
    "warnings.filterwarnings(\"ignore\")\n",
    "pd.set_option('display.max_columns', None)\n",
    "\n",
    "%matplotlib inline"
   ]
  },
  {
   "cell_type": "code",
   "execution_count": 2,
   "id": "00ef7071",
   "metadata": {},
   "outputs": [
    {
     "name": "stdout",
     "output_type": "stream",
     "text": [
      "<class 'pandas.core.frame.DataFrame'>\n",
      "RangeIndex: 2089317 entries, 0 to 2089316\n",
      "Data columns (total 62 columns):\n",
      " #   Column                                Non-Null Count    Dtype  \n",
      "---  ------                                --------------    -----  \n",
      " 0   Numero                                2089317 non-null  int64  \n",
      " 1   Data_de_emissao                       2089317 non-null  object \n",
      " 2   Situacao                              2089317 non-null  object \n",
      " 3   Valor_total_da_nota                   2089317 non-null  float64\n",
      " 4   Nota_referenciada                     160015 non-null   object \n",
      " 5   Nome_razao_social_emit                2089317 non-null  object \n",
      " 6   CPF_CNPJ_emit                         2089317 non-null  int64  \n",
      " 7   Endereco_emit                         2089317 non-null  object \n",
      " 8   Bairro_distrito_emit                  2089314 non-null  object \n",
      " 9   CEP_emit                              2089317 non-null  float64\n",
      " 10  Municipio_emit                        2089317 non-null  object \n",
      " 11  Nome_razao_social_dest                2089317 non-null  object \n",
      " 12  CPF_CNPJ_dest                         2089317 non-null  int64  \n",
      " 13  Endereco_dest                         2089317 non-null  object \n",
      " 14  Bairro_distrito_dest                  2089317 non-null  object \n",
      " 15  CEP_dest                              2066939 non-null  float64\n",
      " 16  Municipio_dest                        2089317 non-null  object \n",
      " 17  Base_de_Calculo_do_ICMS               2089317 non-null  float64\n",
      " 18  Valor_do_ICMS                         2089317 non-null  float64\n",
      " 19  Base_de_calculo_do_ICMS_substituicao  2089317 non-null  float64\n",
      " 20  Valor_do_ICMS_substituicao            2089317 non-null  float64\n",
      " 21  Valor_total_dos_produtos              2089317 non-null  float64\n",
      " 22  Valor_do_frete                        2089317 non-null  float64\n",
      " 23  Valor_do_seguro                       2089317 non-null  int64  \n",
      " 24  Valor_desconto                        2089317 non-null  float64\n",
      " 25  Valor_outras_despesas_acessorias      2089317 non-null  float64\n",
      " 26  Valor_do_IPI                          2089317 non-null  float64\n",
      " 27  Valor_total_ICMS_UF_dest              565977 non-null   float64\n",
      " 28  Valor_total_ICMS_UF_remet             562654 non-null   float64\n",
      " 29  Valor_BC_ICMS_UF_dest                 91667 non-null    float64\n",
      " 30  Aliquota_interna_UF_dest              91667 non-null    float64\n",
      " 31  Aliquota_interestadual_UF_env         91667 non-null    float64\n",
      " 32  Perc_prov_partilha_UF                 91667 non-null    float64\n",
      " 33  Perc_ICMS_FCP_UF_dest                 91667 non-null    float64\n",
      " 34  Valor_ICMS_FCP_UF_dest                91667 non-null    float64\n",
      " 35  Valor_ICMS_partilha_UF_dest           91667 non-null    float64\n",
      " 36  Valor_ICMS_partilha_UF_remet          91667 non-null    float64\n",
      " 37  Nr_item                               2089317 non-null  int64  \n",
      " 38  Cod_prod                              2089317 non-null  object \n",
      " 39  Descricao_do_Produto_ou_servicos      2077058 non-null  object \n",
      " 40  NCM_prod                              2067054 non-null  float64\n",
      " 41  CST_prod                              1089466 non-null  float64\n",
      " 42  CFOP_prod                             2067054 non-null  float64\n",
      " 43  Quant_prod                            2067054 non-null  float64\n",
      " 44  Valor_unit_prod                       2067054 non-null  float64\n",
      " 45  Valor_total_prod                      2067054 non-null  float64\n",
      " 46  Valor_desconto_item                   145203 non-null   float64\n",
      " 47  BC_ICMS_prod                          469806 non-null   float64\n",
      " 48  Valor_ICMS_prod                       469806 non-null   float64\n",
      " 49  Aliq_ICMS_prod                        469806 non-null   float64\n",
      " 50  BC_ICMS_ST_prod                       46212 non-null    float64\n",
      " 51  Valor_ICMS_ST_prod                    46212 non-null    float64\n",
      " 52  Aliq_ICMS_ST_prod                     46212 non-null    float64\n",
      " 53  Valor_IPI_prod                        480869 non-null   float64\n",
      " 54  Aliq_IPI_prod                         414524 non-null   float64\n",
      " 55  Valor_PMC_prod                        161565 non-null   float64\n",
      " 56  Cod_EAN                               555546 non-null   float64\n",
      " 57  Info_Adicional_Item                   225519 non-null   object \n",
      " 58  Informacoes_adicionais_do_FISCO       242767 non-null   object \n",
      " 59  Informacoes_complementares            1742576 non-null  object \n",
      " 60  Unid_prod                             2067054 non-null  object \n",
      " 61  Metrica                               2089317 non-null  float64\n",
      "dtypes: float64(40), int64(5), object(17)\n",
      "memory usage: 988.3+ MB\n"
     ]
    }
   ],
   "source": [
    "df = pd.read_csv(r'..\\..\\datasets\\nfs_original.csv', encoding='latin-1')\n",
    "pd.set_option('display.max_columns', None)\n",
    "df.info(verbose=True, show_counts=True)"
   ]
  },
  {
   "cell_type": "code",
   "execution_count": null,
   "id": "d9e36828",
   "metadata": {},
   "outputs": [],
   "source": [
    "\n"
   ]
  }
 ],
 "metadata": {
  "kernelspec": {
   "display_name": "Python 3 (ipykernel)",
   "language": "python",
   "name": "python3"
  },
  "language_info": {
   "codemirror_mode": {
    "name": "ipython",
    "version": 3
   },
   "file_extension": ".py",
   "mimetype": "text/x-python",
   "name": "python",
   "nbconvert_exporter": "python",
   "pygments_lexer": "ipython3",
   "version": "3.9.17"
  }
 },
 "nbformat": 4,
 "nbformat_minor": 5
}
